{
 "cells": [
  {
   "cell_type": "markdown",
   "id": "4fe70826",
   "metadata": {},
   "source": [
    "<a target=\"_blank\" href=\"https://colab.research.google.com/github/adamMaulachela/Kuliah_Struktur_data/blob/main/Pre-Praktikum/while_loop.ipynb\">\n",
    "  <img src=\"https://colab.research.google.com/assets/colab-badge.svg\" alt=\"Open In Colab\"/>\n",
    "</a>"
   ]
  },
  {
   "cell_type": "markdown",
   "id": "e51b2ed6",
   "metadata": {},
   "source": [
    "# Perulangan `while`"
   ]
  },
  {
   "cell_type": "markdown",
   "id": "bc200672",
   "metadata": {},
   "source": [
    "### bentuk/*syntax* umumnya :\n",
    "```python\n",
    "while(True):\n",
    "    # lakukan aksi ini\n",
    "    # lakukan aksi ini juga\n",
    "# aksi ini bukan bagian dari while\n",
    "```"
   ]
  },
  {
   "cell_type": "markdown",
   "id": "762cb844",
   "metadata": {},
   "source": [
    "### Percobaan 1 "
   ]
  },
  {
   "cell_type": "code",
   "execution_count": 3,
   "id": "0cc03477",
   "metadata": {},
   "outputs": [
    {
     "name": "stdout",
     "output_type": "stream",
     "text": [
      "perulangan ke - 1\n",
      "perulangan ke - 2\n",
      "perulangan ke - 3\n",
      "perulangan ke - 4\n",
      "perulangan ke - 5\n",
      "Akhir perulangan \n",
      "\n"
     ]
    }
   ],
   "source": [
    "ulang = 0\n",
    "\n",
    "while ulang < 5:\n",
    "    ulang += 1\n",
    "    print(f'perulangan ke - {ulang}')\n",
    "print(\"Akhir perulangan \\n\")\n"
   ]
  },
  {
   "cell_type": "code",
   "execution_count": 7,
   "id": "d283fc2f",
   "metadata": {},
   "outputs": [
    {
     "name": "stdout",
     "output_type": "stream",
     "text": [
      "Ulangi lagi atau tidak? ya\n",
      "Ulangi lagi atau tidak? ya\n",
      "Ulangi lagi atau tidak? ya\n",
      "Ulangi lagi atau tidak? tidak\n",
      "Total perulagan: 4\n"
     ]
    }
   ],
   "source": [
    "jawab = 'ya'\n",
    "hitung = 0\n",
    "\n",
    "while(jawab == 'ya'):\n",
    "    hitung += 1\n",
    "    jawab = input(\"Ulang lagi tidak? \")\n",
    "    print(\"Ulangi lagi atau tidak?\", jawab)\n",
    "\n",
    "print(f\"Total perulagan: {hitung}\")"
   ]
  },
  {
   "cell_type": "markdown",
   "id": "f7cfb3da",
   "metadata": {},
   "source": [
    "### Perulangan dengan `break` dan `continue`"
   ]
  },
  {
   "cell_type": "code",
   "execution_count": 8,
   "id": "3f9e2ebd",
   "metadata": {},
   "outputs": [
    {
     "name": "stdout",
     "output_type": "stream",
     "text": [
      "i saat ini - > 1\n",
      "i saat ini - > 2\n",
      "i saat ini - > 3\n",
      "i saat ini - > 4\n",
      "Akhir Perulangan\n",
      "\n"
     ]
    }
   ],
   "source": [
    "# for dengan break\n",
    "for i in range(1,10):\n",
    "    if i == 5:\n",
    "        break # keluar dari loop saat i = 5\n",
    "    print(f'i saat ini - > {i}')\n",
    "print(\"Akhir Perulangan\\n\")"
   ]
  },
  {
   "cell_type": "code",
   "execution_count": 10,
   "id": "be45c549",
   "metadata": {},
   "outputs": [
    {
     "name": "stdout",
     "output_type": "stream",
     "text": [
      "i saat ini - > 1\n",
      "i saat ini - > 2\n",
      "i saat ini - > 3\n",
      "i saat ini - > 4\n",
      "Akhir dari perulangan\n",
      "\n"
     ]
    }
   ],
   "source": [
    "# while dengan continue\n",
    "i = 1\n",
    "while i < 10:\n",
    "    if i == 5:\n",
    "        break  # keluar dari loop saat i = 5\n",
    "    print(f'i saat ini - > {i}')\n",
    "    i += 1\n",
    "print(\"Akhir dari perulangan\\n\")"
   ]
  },
  {
   "cell_type": "code",
   "execution_count": 11,
   "id": "cf951b21",
   "metadata": {},
   "outputs": [
    {
     "name": "stdout",
     "output_type": "stream",
     "text": [
      "i saat ini -> 1\n",
      "i saat ini -> 2\n",
      "i saat ini -> 4\n",
      "i saat ini -> 5\n",
      "Akhir Perulangan \n",
      "\n"
     ]
    }
   ],
   "source": [
    "# for dengan continue\n",
    "for i in range(1, 6):\n",
    "    if i == 3:\n",
    "        continue  # lewati i = 3\n",
    "    print(f'i saat ini -> {i}')\n",
    "print(\"Akhir Perulangan \\n\")"
   ]
  },
  {
   "cell_type": "code",
   "execution_count": 12,
   "id": "d8008bd3",
   "metadata": {},
   "outputs": [
    {
     "name": "stdout",
     "output_type": "stream",
     "text": [
      "i saat ini -> 1\n",
      "i saat ini -> 2\n",
      "i saat ini -> 4\n",
      "i saat ini -> 5\n",
      "Akhir Perulangan\n",
      "\n"
     ]
    }
   ],
   "source": [
    "# while dengan continue\n",
    "i = 0\n",
    "while i < 5:\n",
    "    i += 1\n",
    "    if i == 3:\n",
    "        continue  # lewati i = 3\n",
    "    print(f'i saat ini -> {i}')\n",
    "print(\"Akhir Perulangan\\n\")\n"
   ]
  },
  {
   "cell_type": "markdown",
   "id": "b38d39c4",
   "metadata": {},
   "source": [
    "## Tugas Modul Pre-praktikum (Perulangan )"
   ]
  },
  {
   "cell_type": "markdown",
   "id": "ed74f19e",
   "metadata": {},
   "source": [
    "#### Soal 1 : Login Sederhana\n",
    "Buatlah program yang meminta user memasukkan username dan password. Program hanya memberikan 3 kali kesempatan. Jika login berhasil (username = admin, password = 12345), tampilkan pesan \"Login berhasil\" dan keluar dari perulangan. Jika salah, tampilkan \"Login gagal, coba lagi\". Setelah 3 kali gagal, tampilkan \"Akun terkunci\"."
   ]
  },
  {
   "cell_type": "code",
   "execution_count": null,
   "id": "1a2ac71e",
   "metadata": {},
   "outputs": [],
   "source": [
    "# isi jawaban Soal 1!\n",
    "'___'"
   ]
  },
  {
   "cell_type": "markdown",
   "id": "886b4841",
   "metadata": {},
   "source": [
    "#### Soal 2 : Input Nilai Valid \n",
    "Buatlah program yang meminta user memasukkan 5 buah nilai (0–100). Jika nilai tidak valid (misal < 0 atau > 100), tampilkan pesan \"Nilai tidak valid, ulangi\" dan jangan dihitung sebagai input ke-berapa. "
   ]
  },
  {
   "cell_type": "code",
   "execution_count": null,
   "id": "6d5f3154",
   "metadata": {},
   "outputs": [],
   "source": [
    "# Isi jawaban Soal 2!\n",
    "'___'"
   ]
  },
  {
   "cell_type": "markdown",
   "id": "01fb7fd7",
   "metadata": {},
   "source": [
    "#### Soal 3 : Form Input Nama\n",
    "Buat program yang meminta user memasukkan nama sebanyak 5 kali. Jika user memasukkan nama kosong (\"\"), tampilkan pesan \"Nama tidak boleh kosong\" dan minta ulang input tersebut. Jika user memasukkan kata 'keluar', program langsung berhenti"
   ]
  },
  {
   "cell_type": "code",
   "execution_count": null,
   "id": "155eee54",
   "metadata": {},
   "outputs": [],
   "source": [
    "# Isi jawaban Soal 3!\n",
    "'___'"
   ]
  },
  {
   "cell_type": "markdown",
   "id": "db4c262e",
   "metadata": {},
   "source": []
  }
 ],
 "metadata": {
  "kernelspec": {
   "display_name": "base",
   "language": "python",
   "name": "python3"
  },
  "language_info": {
   "codemirror_mode": {
    "name": "ipython",
    "version": 3
   },
   "file_extension": ".py",
   "mimetype": "text/x-python",
   "name": "python",
   "nbconvert_exporter": "python",
   "pygments_lexer": "ipython3",
   "version": "3.11.8"
  }
 },
 "nbformat": 4,
 "nbformat_minor": 5
}
