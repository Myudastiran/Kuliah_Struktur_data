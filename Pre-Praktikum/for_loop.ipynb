{
 "cells": [
  {
   "cell_type": "markdown",
   "id": "9b31eea9",
   "metadata": {},
   "source": [
    "# Perulangan `for`"
   ]
  },
  {
   "cell_type": "markdown",
   "id": "4d233099",
   "metadata": {},
   "source": [
    "### Bentuk umum / *sytanx* :\n",
    "```Python\n",
    "for indeks in range(banyak_perulangan):\n",
    "    # jalankan aksi ini\n",
    "    # jalankan juga aksi ini\n",
    "# aksi/kode/statemen ini bukan bagian dari for\n",
    "```"
   ]
  },
  {
   "cell_type": "markdown",
   "id": "bad13731",
   "metadata": {},
   "source": [
    "### Percobaan 1 - Perulangan dengan Range"
   ]
  },
  {
   "cell_type": "code",
   "execution_count": 2,
   "id": "80f40b77",
   "metadata": {},
   "outputs": [
    {
     "name": "stdout",
     "output_type": "stream",
     "text": [
      "Perulangan Ke - 0\n",
      "Perulangan Ke - 1\n",
      "Perulangan Ke - 2\n",
      "Perulangan Ke - 3\n",
      "Perulangan Ke - 4\n",
      "Perulangan Ke - 5\n",
      "Perulangan Ke - 6\n",
      "Perulangan Ke - 7\n",
      "Perulangan Ke - 8\n",
      "Perulangan Ke - 9\n",
      "Akhir Perulangan \n",
      "\n"
     ]
    }
   ],
   "source": [
    "ulang = 10\n",
    "\n",
    "for i in range(ulang):\n",
    "    print(f\"Perulangan Ke - {i}\")\n",
    "print(\"Akhir Perulangan \\n\")"
   ]
  },
  {
   "cell_type": "code",
   "execution_count": 8,
   "id": "075f7f80",
   "metadata": {},
   "outputs": [
    {
     "name": "stdout",
     "output_type": "stream",
     "text": [
      "Perulangan ke - 1\n",
      "Perulangan ke - 2\n",
      "Perulangan ke - 3\n",
      "Perulangan ke - 4\n",
      "Perulangan ke - 5\n",
      "Perulangan ke - 6\n",
      "Perulangan ke - 7\n",
      "Perulangan ke - 8\n",
      "Perulangan ke - 9\n",
      "Perulangan ke - 10\n",
      "Akhir Perulangan \n",
      "\n"
     ]
    }
   ],
   "source": [
    "# range dengan batas bawah dan batas atas\n",
    "for i in range(1,11):\n",
    "    print(f'Perulangan ke - {i}')\n",
    "print(\"Akhir Perulangan \\n\")"
   ]
  },
  {
   "cell_type": "code",
   "execution_count": 16,
   "id": "5ca24fc2",
   "metadata": {},
   "outputs": [
    {
     "name": "stdout",
     "output_type": "stream",
     "text": [
      "Perulangan ke - 1\n",
      "Perulangan ke - 3\n",
      "Perulangan ke - 5\n",
      "Perulangan ke - 7\n",
      "Perulangan ke - 9\n",
      "Akhir Perulangan\n",
      "\n"
     ]
    }
   ],
   "source": [
    "# range dengan batas bawah, atas dan interval\n",
    "for i in range(1,11,2):\n",
    "   print(f'Perulangan ke - {i}')\n",
    "print(\"Akhir Perulangan\\n\")"
   ]
  },
  {
   "cell_type": "markdown",
   "id": "73066eb2",
   "metadata": {},
   "source": [
    "### Percoban 2 - Perulangan dengan List"
   ]
  },
  {
   "cell_type": "code",
   "execution_count": 4,
   "id": "5b1fbca0",
   "metadata": {},
   "outputs": [
    {
     "name": "stdout",
     "output_type": "stream",
     "text": [
      "isi list -> 0\n",
      "isi list -> 1\n",
      "isi list -> 7\n",
      "isi list -> 12\n",
      "isi list -> 15\n",
      "isi list -> 18\n",
      "isi list -> 45\n",
      "Akhir Perulangan\n",
      "\n"
     ]
    }
   ],
   "source": [
    "list = [0,1, 7, 12, 15, 18, 45]\n",
    "\n",
    "for i in list:\n",
    "    print(f\"isi list -> {i}\")\n",
    "print(\"Akhir Perulangan\\n\")"
   ]
  },
  {
   "cell_type": "code",
   "execution_count": 17,
   "id": "2f396ae8",
   "metadata": {},
   "outputs": [
    {
     "name": "stdout",
     "output_type": "stream",
     "text": [
      "Isi list - > PTI\n",
      "Isi list - > Undikma\n",
      "Isi list - > 11\n",
      "Isi list - > 2\n",
      "Isi list - > 2019\n",
      "Akhir Perulangan \n",
      "\n"
     ]
    }
   ],
   "source": [
    "# list dengan kombinasi tipe data\n",
    "list = ['PTI', 'Undikma', 11, 2, 2019]\n",
    "\n",
    "for i in list:\n",
    "    print(f'Isi list - > {i}')\n",
    "print(\"Akhir Perulangan \\n\")\n",
    "    "
   ]
  },
  {
   "cell_type": "markdown",
   "id": "d08110ea",
   "metadata": {},
   "source": [
    "### Percobaan 3 - Perulangan String"
   ]
  },
  {
   "cell_type": "code",
   "execution_count": 20,
   "id": "f3a46aae",
   "metadata": {},
   "outputs": [
    {
     "name": "stdout",
     "output_type": "stream",
     "text": [
      "Karakter - > U\n",
      "Karakter - > N\n",
      "Karakter - > D\n",
      "Karakter - > I\n",
      "Karakter - > K\n",
      "Karakter - > M\n",
      "Karakter - > A\n",
      "Akhir Perulangan \n",
      "\n"
     ]
    }
   ],
   "source": [
    "string = \"UNDIKMA\"\n",
    "for i in string:\n",
    "    print(f'Karakter - > {i}')\n",
    "print(\"Akhir Perulangan \\n\")"
   ]
  },
  {
   "cell_type": "code",
   "execution_count": null,
   "id": "534b933f",
   "metadata": {},
   "outputs": [],
   "source": []
  }
 ],
 "metadata": {
  "kernelspec": {
   "display_name": "base",
   "language": "python",
   "name": "python3"
  },
  "language_info": {
   "codemirror_mode": {
    "name": "ipython",
    "version": 3
   },
   "file_extension": ".py",
   "mimetype": "text/x-python",
   "name": "python",
   "nbconvert_exporter": "python",
   "pygments_lexer": "ipython3",
   "version": "3.11.8"
  }
 },
 "nbformat": 4,
 "nbformat_minor": 5
}
