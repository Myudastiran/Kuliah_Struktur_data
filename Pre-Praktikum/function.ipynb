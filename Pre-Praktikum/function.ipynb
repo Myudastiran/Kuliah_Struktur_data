{
 "cells": [
  {
   "cell_type": "markdown",
   "id": "48263a32",
   "metadata": {},
   "source": [
    "<a target=\"_blank\" href=\"https://colab.research.google.com/github/adamMaulachela/Kuliah_Struktur_data/blob/main/Pre-Praktikum/function.ipynb\">\n",
    "  <img src=\"https://colab.research.google.com/assets/colab-badge.svg\" alt=\"Open In Colab\"/>\n",
    "</a>"
   ]
  },
  {
   "cell_type": "markdown",
   "id": "6c58da09",
   "metadata": {},
   "source": [
    "# Function Pada Python"
   ]
  },
  {
   "cell_type": "markdown",
   "id": "9c89ed7e",
   "metadata": {},
   "source": [
    "### Percobaan-1 Function dengan Parameter"
   ]
  },
  {
   "cell_type": "code",
   "execution_count": 1,
   "id": "e31e64d5",
   "metadata": {},
   "outputs": [
    {
     "name": "stdout",
     "output_type": "stream",
     "text": [
      "Halo, Adam!\n"
     ]
    }
   ],
   "source": [
    "# function dengan 1 parameter\n",
    "def sapa_nama(nama):\n",
    "    print(f\"Halo, {nama}!\")\n",
    "\n",
    "# Pemanggilan Function\n",
    "sapa_nama(\"Adam\")"
   ]
  },
  {
   "cell_type": "code",
   "execution_count": 2,
   "id": "e7cc7db3",
   "metadata": {},
   "outputs": [
    {
     "name": "stdout",
     "output_type": "stream",
     "text": [
      "Luas segitiga: 12.000000\n"
     ]
    }
   ],
   "source": [
    "# function dengan lebih dari 1 parameter\n",
    "def luas_segitiga(alas, tinggi):\n",
    "    luas = (alas * tinggi) / 2\n",
    "    print(\"Luas segitiga: %f\" % luas)\n",
    "\n",
    "# Pemanggilan Function\n",
    "luas_segitiga(4, 6)"
   ]
  },
  {
   "cell_type": "markdown",
   "id": "60eeda7f",
   "metadata": {},
   "source": [
    "### Percobaan-2 Function dengan return (Nilai Kembali)"
   ]
  },
  {
   "cell_type": "code",
   "execution_count": 3,
   "id": "e2bcd3f3",
   "metadata": {},
   "outputs": [
    {
     "name": "stdout",
     "output_type": "stream",
     "text": [
      "Hasil: 8\n"
     ]
    }
   ],
   "source": [
    "def tambah(a, b):\n",
    "    return a + b\n",
    "\n",
    "# pemanggilan fungsi\n",
    "hasil = tambah(3, 5)\n",
    "print(\"Hasil:\", hasil)"
   ]
  },
  {
   "cell_type": "code",
   "execution_count": 4,
   "id": "4edb51ef",
   "metadata": {},
   "outputs": [
    {
     "name": "stdout",
     "output_type": "stream",
     "text": [
      "Luas Persegi : 36\n"
     ]
    }
   ],
   "source": [
    "def luas_persegi(sisi):\n",
    "    luas = sisi * sisi\n",
    "    return luas\n",
    "\n",
    "# pemanggilan fungsi\n",
    "print(f\"Luas Persegi : {luas_persegi(6)}\")"
   ]
  },
  {
   "cell_type": "code",
   "execution_count": 5,
   "id": "8d6dfaa7",
   "metadata": {},
   "outputs": [
    {
     "name": "stdout",
     "output_type": "stream",
     "text": [
      "Volume Persegi = 216\n"
     ]
    }
   ],
   "source": [
    "# menjadikan fungsi sebagai inputan buat fungsi lainnya \n",
    "# rumus: sisi x sisi x sisi\n",
    "def volume_persegi(sisi):\n",
    "    volume = luas_persegi(sisi) * sisi\n",
    "    return volume\n",
    "\n",
    "# pemanggilan fungsi\n",
    "print(f\"Volume Persegi = {volume_persegi(6)}\")"
   ]
  },
  {
   "cell_type": "markdown",
   "id": "634c6a79",
   "metadata": {},
   "source": [
    "### Percobaan-3 - Function Dengan Default Argument"
   ]
  },
  {
   "cell_type": "code",
   "execution_count": 6,
   "id": "d28c6962",
   "metadata": {},
   "outputs": [
    {
     "name": "stdout",
     "output_type": "stream",
     "text": [
      "Wallberg Mark studies in Fifth Standard\n",
      "John Gates studies in Seventh Standard\n",
      "John Gates studies in Fifth Standard\n",
      "John Seventh studies in Fifth Standard\n"
     ]
    }
   ],
   "source": [
    "def student(firstname, lastname ='Mark', standard ='Fifth'):\n",
    "    print(firstname, lastname, 'studies in', standard, 'Standard')\n",
    "    \n",
    "# pemanggilan function, dengan 1 argumen\n",
    "student(\"Wallberg\")\n",
    "\n",
    "# pemanggilan function, dengan 3 argumen\n",
    "student('John', 'Gates', 'Seventh')  \n",
    "\n",
    "# pemanggilan function dengan 2 argumen\n",
    "student('John', 'Gates')                  \n",
    "student('John', 'Seventh')"
   ]
  },
  {
   "cell_type": "markdown",
   "id": "3831fdca",
   "metadata": {},
   "source": [
    "### Percobaan-4 - Type Hints Pada Function"
   ]
  },
  {
   "cell_type": "code",
   "execution_count": 7,
   "id": "db99a9df",
   "metadata": {},
   "outputs": [
    {
     "name": "stdout",
     "output_type": "stream",
     "text": [
      "Hasil =  12\n",
      "Tipe Data :  <class 'int'>\n"
     ]
    }
   ],
   "source": [
    "def kali(a: int, b: int) -> int:\n",
    "    return a * b\n",
    "\n",
    "# Pemanggilan function\n",
    "print(\"Hasil = \" ,kali(3, 4))\n",
    "print(\"Tipe Data : \", type(kali(3,4)))"
   ]
  },
  {
   "cell_type": "markdown",
   "id": "53aac408",
   "metadata": {},
   "source": [
    "### Percobaan-5 - Function Dengan *args dan **kwargs"
   ]
  },
  {
   "cell_type": "code",
   "execution_count": 8,
   "id": "31b307aa",
   "metadata": {},
   "outputs": [
    {
     "name": "stdout",
     "output_type": "stream",
     "text": [
      "Hello\n",
      "Selamat Datang\n",
      "Di\n",
      "PTI UNDIKMA\n"
     ]
    }
   ],
   "source": [
    "# *args untuk argumen bervariasi\n",
    "def myFun(*argv):\n",
    "    for arg in argv:\n",
    "        print(arg)\n",
    "\n",
    "\n",
    "myFun('Hello', 'Selamat Datang', 'Di', 'PTI UNDIKMA')"
   ]
  },
  {
   "cell_type": "code",
   "execution_count": 9,
   "id": "3aa8dcd1",
   "metadata": {},
   "outputs": [
    {
     "name": "stdout",
     "output_type": "stream",
     "text": [
      "Total: 6\n",
      "Total: 50\n"
     ]
    }
   ],
   "source": [
    "def jumlahkan(*angka):\n",
    "    total = sum(angka)\n",
    "    print(\"Total:\", total)\n",
    "\n",
    "jumlahkan(1, 2, 3)\n",
    "jumlahkan(5, 10, 15, 20)"
   ]
  },
  {
   "cell_type": "code",
   "execution_count": 10,
   "id": "7d651598",
   "metadata": {},
   "outputs": [
    {
     "name": "stdout",
     "output_type": "stream",
     "text": [
      "First argument : Hello\n",
      "Argument *argv : Selamat Datang\n",
      "Argument *argv : di\n",
      "Argument *argv : PTI UNDIKMA\n"
     ]
    }
   ],
   "source": [
    "# *args dengan ekstra argumen\n",
    "def fun(arg1, *argv):\n",
    "    print(\"First argument :\", arg1)\n",
    "    for arg in argv:\n",
    "        print(\"Argument *argv :\", arg)\n",
    "\n",
    "fun('Hello', 'Selamat Datang', 'di', 'PTI UNDIKMA')"
   ]
  },
  {
   "cell_type": "code",
   "execution_count": 11,
   "id": "63a4cf2a",
   "metadata": {},
   "outputs": [
    {
     "name": "stdout",
     "output_type": "stream",
     "text": [
      "nama: Rina\n",
      "jurusan: TI\n",
      "angkatan: 2022\n"
     ]
    }
   ],
   "source": [
    "# function dengan **kwargs \n",
    "def info_mahasiswa(**data):\n",
    "    for key, value in data.items():\n",
    "        print(f\"{key}: {value}\")\n",
    "\n",
    "# Pemanggilan function\n",
    "info_mahasiswa(nama=\"Rina\", jurusan=\"TI\", angkatan=2022)"
   ]
  },
  {
   "cell_type": "code",
   "execution_count": 12,
   "id": "44a24703",
   "metadata": {},
   "outputs": [
    {
     "name": "stdout",
     "output_type": "stream",
     "text": [
      "Positional arguments: (1, 2, 3)\n",
      "Keyword arguments: {'a': 4, 'b': 5}\n"
     ]
    }
   ],
   "source": [
    "# kombinasi syntax *args dan **kwargs dalam satu function\n",
    "def fun(*args, **kwargs):\n",
    "    print(\"Positional arguments:\", args)\n",
    "    print(\"Keyword arguments:\", kwargs)\n",
    "\n",
    "# Pemanggilan function\n",
    "fun(1, 2, 3, a=4, b=5)"
   ]
  },
  {
   "cell_type": "markdown",
   "id": "c2dd330f",
   "metadata": {},
   "source": [
    "### Percobaan-6 - Variabel Global dan Lokal"
   ]
  },
  {
   "cell_type": "code",
   "execution_count": 13,
   "id": "2b58a208",
   "metadata": {},
   "outputs": [
    {
     "name": "stdout",
     "output_type": "stream",
     "text": [
      "Halo, Budi\n"
     ]
    }
   ],
   "source": [
    "nama = \"Budi\"  # variabel global\n",
    "\n",
    "def sapa():\n",
    "    print(\"Halo,\", nama)\n",
    "\n",
    "# memanggil function\n",
    "sapa()"
   ]
  },
  {
   "cell_type": "code",
   "execution_count": 14,
   "id": "ac414c44",
   "metadata": {},
   "outputs": [
    {
     "name": "stdout",
     "output_type": "stream",
     "text": [
      "Halo dari dalam fungsi!\n"
     ]
    },
    {
     "ename": "NameError",
     "evalue": "name 'pesan' is not defined",
     "output_type": "error",
     "traceback": [
      "\u001b[0;31m---------------------------------------------------------------------------\u001b[0m",
      "\u001b[0;31mNameError\u001b[0m                                 Traceback (most recent call last)",
      "Cell \u001b[0;32mIn[14], line 7\u001b[0m\n\u001b[1;32m      5\u001b[0m \u001b[38;5;66;03m# memanggil function\u001b[39;00m\n\u001b[1;32m      6\u001b[0m halo()\n\u001b[0;32m----> 7\u001b[0m \u001b[38;5;28mprint\u001b[39m(pesan)\n",
      "\u001b[0;31mNameError\u001b[0m: name 'pesan' is not defined"
     ]
    }
   ],
   "source": [
    "def halo():\n",
    "    pesan = \"Halo dari dalam fungsi!\"  # variabel lokal\n",
    "    print(pesan)\n",
    "\n",
    "# memanggil function\n",
    "halo()\n",
    "print(pesan)  # ❌ Error! variabel 'pesan' tidak dikenali di luar fungsi"
   ]
  },
  {
   "cell_type": "code",
   "execution_count": 15,
   "id": "50583871",
   "metadata": {},
   "outputs": [
    {
     "name": "stdout",
     "output_type": "stream",
     "text": [
      "Nama: UNDIKMA\n",
      "Versi: 1.0.0\n",
      "Nama: Programku\n",
      "Versi: 1.0.2\n"
     ]
    }
   ],
   "source": [
    "nama = \"UNDIKMA\"\n",
    "versi = \"1.0.0\"\n",
    "\n",
    "def help():\n",
    "    # ini variabel lokal\n",
    "    nama = \"Programku\"\n",
    "    versi = \"1.0.2\"\n",
    "    # mengakses variabel lokal\n",
    "    print (\"Nama: %s\" % nama)\n",
    "    print (\"Versi: %s\" % versi)\n",
    "\n",
    "\n",
    "# mengakses variabel global\n",
    "print (\"Nama: %s\" % nama)\n",
    "print (\"Versi: %s\" % versi)\n",
    "\n",
    "# memanggil fungsi help()\n",
    "help()"
   ]
  },
  {
   "cell_type": "code",
   "execution_count": 16,
   "id": "90cfe304",
   "metadata": {},
   "outputs": [],
   "source": [
    "# Variabel global untuk menyimpan data buku\n",
    "buku = []"
   ]
  },
  {
   "cell_type": "code",
   "execution_count": 17,
   "id": "74602b9c",
   "metadata": {},
   "outputs": [],
   "source": [
    "# Fungsi untuk menampilkan semua data buku\n",
    "def show_data():\n",
    "    if len(buku) <=0 :\n",
    "        print(\"DATA BUKU BELUM ADA\")\n",
    "    else:\n",
    "        for indeks in range(len(buku)):\n",
    "            print(\"[%d] %s\" % (indeks, buku[indeks]))"
   ]
  },
  {
   "cell_type": "code",
   "execution_count": 18,
   "id": "623ffbe2",
   "metadata": {},
   "outputs": [],
   "source": [
    "def insert_data():\n",
    "    buku_baru = input(\"Judul Buku : \")\n",
    "    buku.append(buku_baru)"
   ]
  },
  {
   "cell_type": "code",
   "execution_count": 19,
   "id": "3db31f55",
   "metadata": {},
   "outputs": [],
   "source": [
    "def edit_data():\n",
    "    show_data()\n",
    "    indeks = int(input(\"Inputkan ID Buku : \"))\n",
    "    if(indeks > len(buku)):\n",
    "        print(\"ID Buku Tidak Ditemukan\")\n",
    "    else:\n",
    "        judul_baru = input(\"Judul Baru : \")\n",
    "        buku[indeks] = judul_baru"
   ]
  },
  {
   "cell_type": "code",
   "execution_count": 20,
   "id": "f9a4aef8",
   "metadata": {},
   "outputs": [],
   "source": [
    "def delete_data():\n",
    "    show_data()\n",
    "    indeks = int(input(\"Inputkan ID Buku : \"))\n",
    "    if(indeks > len(buku)):\n",
    "        print(\"ID Buku Tidak Ditemukan\")\n",
    "    else:\n",
    "        buku.remove(buku[indeks])\n",
    "        print(f\"Buku dengan ID {indeks} Terhapus\")"
   ]
  },
  {
   "cell_type": "code",
   "execution_count": 21,
   "id": "587fa580",
   "metadata": {},
   "outputs": [],
   "source": [
    "def show_menu():\n",
    "    print(\"\\n\")\n",
    "    print(5*\"-\",\"MENU\", 5*\"-\")\n",
    "    print(\"[1] Show Data\")\n",
    "    print(\"[2] Insert Data\")\n",
    "    print(\"[3] Edit Data\")\n",
    "    print(\"[4] Delete Data\")\n",
    "    print(\"[5] Exit\")\n",
    "    \n",
    "    menu = int(input(\"PILIH MENU : \"))\n",
    "    print(\"\\n\")\n",
    "    if menu == 1:\n",
    "        show_data()\n",
    "    elif menu == 2:\n",
    "        insert_data()\n",
    "    elif menu == 3:\n",
    "        edit_data()\n",
    "    elif menu == 4:\n",
    "        delete_data()\n",
    "    elif menu == 5:\n",
    "        exit()\n",
    "    else:\n",
    "        print(\"Pilihan Anda Salah!\")"
   ]
  },
  {
   "cell_type": "code",
   "execution_count": null,
   "id": "165f744d",
   "metadata": {},
   "outputs": [],
   "source": [
    "if __name__ == \"__main__\":\n",
    "    while(True):\n",
    "        show_menu()"
   ]
  }
 ],
 "metadata": {
  "kernelspec": {
   "display_name": "base",
   "language": "python",
   "name": "python3"
  },
  "language_info": {
   "codemirror_mode": {
    "name": "ipython",
    "version": 3
   },
   "file_extension": ".py",
   "mimetype": "text/x-python",
   "name": "python",
   "nbconvert_exporter": "python",
   "pygments_lexer": "ipython3",
   "version": "3.11.8"
  }
 },
 "nbformat": 4,
 "nbformat_minor": 5
}
