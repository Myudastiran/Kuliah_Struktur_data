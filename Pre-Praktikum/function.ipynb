{
 "cells": [
  {
   "cell_type": "markdown",
   "id": "6c58da09",
   "metadata": {},
   "source": [
    "# Function Pada Python"
   ]
  },
  {
   "cell_type": "markdown",
   "id": "9c89ed7e",
   "metadata": {},
   "source": []
  }
 ],
 "metadata": {
  "language_info": {
   "name": "python"
  }
 },
 "nbformat": 4,
 "nbformat_minor": 5
}
