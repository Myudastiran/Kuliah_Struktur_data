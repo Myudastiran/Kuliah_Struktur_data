{
 "cells": [
  {
   "cell_type": "markdown",
   "id": "48263a32",
   "metadata": {},
   "source": [
    "<a target=\"_blank\" href=\"https://colab.research.google.com/github/adamMaulachela/Kuliah_Struktur_data/blob/main/Pre-Praktikum/function.ipynb\">\n",
    "  <img src=\"https://colab.research.google.com/assets/colab-badge.svg\" alt=\"Open In Colab\"/>\n",
    "</a>"
   ]
  },
  {
   "cell_type": "markdown",
   "id": "6c58da09",
   "metadata": {},
   "source": [
    "# Function Pada Python"
   ]
  },
  {
   "cell_type": "markdown",
   "id": "9c89ed7e",
   "metadata": {},
   "source": []
  }
 ],
 "metadata": {
  "language_info": {
   "name": "python"
  }
 },
 "nbformat": 4,
 "nbformat_minor": 5
}
